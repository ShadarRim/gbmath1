{
  "nbformat": 4,
  "nbformat_minor": 0,
  "metadata": {
    "colab": {
      "name": "HW6 limits with derevatives.ipynb",
      "provenance": []
    },
    "kernelspec": {
      "name": "python3",
      "display_name": "Python 3"
    }
  },
  "cells": [
    {
      "cell_type": "code",
      "metadata": {
        "id": "XnFKD4ItC1uS",
        "colab_type": "code",
        "colab": {}
      },
      "source": [
        "#f'(x) * (dx) = f(x+dx) - f(x)\n",
        "#cos(x) * (dx) = sin(x+dx) - sin(x)\n",
        "#-sin(x) * (dx) = cos(x+dx) - cos(x)\n",
        "# x = 1\n",
        "#cos(0) * pi/180 + sin(0) = sin(pi/180)"
      ],
      "execution_count": 0,
      "outputs": []
    },
    {
      "cell_type": "code",
      "metadata": {
        "id": "KV-6NwdsES2l",
        "colab_type": "code",
        "colab": {}
      },
      "source": [
        "import math\n",
        "from math import pi"
      ],
      "execution_count": 0,
      "outputs": []
    },
    {
      "cell_type": "code",
      "metadata": {
        "id": "-t937Sy5FOZa",
        "colab_type": "code",
        "colab": {}
      },
      "source": [
        "from pprint import pprint"
      ],
      "execution_count": 0,
      "outputs": []
    },
    {
      "cell_type": "code",
      "metadata": {
        "id": "nSVLMsxMDpOj",
        "colab_type": "code",
        "colab": {}
      },
      "source": [
        "sin_dict = {}\n",
        "cos_dict = {}\n",
        "\n",
        "sin_dict[0] = 0\n",
        "cos_dict[0] = 1"
      ],
      "execution_count": 0,
      "outputs": []
    },
    {
      "cell_type": "code",
      "metadata": {
        "id": "4fGJlYGfEYFV",
        "colab_type": "code",
        "colab": {
          "base_uri": "https://localhost:8080/",
          "height": 34
        },
        "outputId": "a242ce1d-11c6-45cc-d6dd-4b861987a878"
      },
      "source": [
        "pi"
      ],
      "execution_count": 4,
      "outputs": [
        {
          "output_type": "execute_result",
          "data": {
            "text/plain": [
              "3.141592653589793"
            ]
          },
          "metadata": {
            "tags": []
          },
          "execution_count": 4
        }
      ]
    },
    {
      "cell_type": "code",
      "metadata": {
        "id": "T3wT-VidEfqm",
        "colab_type": "code",
        "colab": {}
      },
      "source": [
        "m = 5"
      ],
      "execution_count": 0,
      "outputs": []
    },
    {
      "cell_type": "code",
      "metadata": {
        "id": "J4K3Q_cED68q",
        "colab_type": "code",
        "colab": {
          "base_uri": "https://localhost:8080/",
          "height": 119
        },
        "outputId": "2bd40e31-1d1e-4349-a15a-b8508acf8652"
      },
      "source": [
        "for i in range(1, m+1):\n",
        "  sin_dict[i] = cos_dict[i-1]*pi/180+sin_dict[i-1]\n",
        "  cos_dict[i] = 1*cos_dict[i-1] - sin_dict[i-1]*pi/180\n",
        "\n",
        "pprint(sin_dict)"
      ],
      "execution_count": 14,
      "outputs": [
        {
          "output_type": "stream",
          "text": [
            "{0: 0,\n",
            " 1: 0.017453292519943295,\n",
            " 2: 0.03490658503988659,\n",
            " 3: 0.052354560982895676,\n",
            " 4: 0.06979190377203634,\n",
            " 5: 0.08721329844989634}\n"
          ],
          "name": "stdout"
        }
      ]
    }
  ]
}