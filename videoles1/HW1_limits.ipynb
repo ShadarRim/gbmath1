{
  "nbformat": 4,
  "nbformat_minor": 0,
  "metadata": {
    "colab": {
      "name": "HW1 - limits.ipynb",
      "provenance": []
    },
    "kernelspec": {
      "name": "python3",
      "display_name": "Python 3"
    }
  },
  "cells": [
    {
      "cell_type": "code",
      "metadata": {
        "id": "B9Xf9Pz73H7x",
        "colab_type": "code",
        "colab": {}
      },
      "source": [
        "#На языке Python предложить алгоритм вычисляющий численно предел с точностью "
      ],
      "execution_count": 0,
      "outputs": []
    },
    {
      "cell_type": "code",
      "metadata": {
        "id": "DKEwX7l13Pav",
        "colab_type": "code",
        "colab": {}
      },
      "source": [
        "import math"
      ],
      "execution_count": 0,
      "outputs": []
    },
    {
      "cell_type": "code",
      "metadata": {
        "id": "PkvZzrJK468O",
        "colab_type": "code",
        "colab": {}
      },
      "source": [
        "from decimal import Decimal"
      ],
      "execution_count": 0,
      "outputs": []
    },
    {
      "cell_type": "code",
      "metadata": {
        "id": "rncb9EBp3RG0",
        "colab_type": "code",
        "colab": {}
      },
      "source": [
        "def f(n):\n",
        "  k = Decimal(math.factorial(n))**1/n\n",
        "  return n/k"
      ],
      "execution_count": 0,
      "outputs": []
    },
    {
      "cell_type": "code",
      "metadata": {
        "id": "SL_AfFlC3eN1",
        "colab_type": "code",
        "colab": {}
      },
      "source": [
        "e = 0.0000000001"
      ],
      "execution_count": 0,
      "outputs": []
    },
    {
      "cell_type": "code",
      "metadata": {
        "id": "RkTwXsz43iar",
        "colab_type": "code",
        "colab": {}
      },
      "source": [
        "step = 1\n",
        "# влияет на скорость сходимости"
      ],
      "execution_count": 0,
      "outputs": []
    },
    {
      "cell_type": "code",
      "metadata": {
        "id": "JmE5cDm23nkQ",
        "colab_type": "code",
        "outputId": "e6efc228-563b-44be-b23a-3faad5411b02",
        "colab": {
          "base_uri": "https://localhost:8080/",
          "height": 34
        }
      },
      "source": [
        "n = 2\n",
        "while abs(f(n) - f(n-1)) > e:\n",
        "  #print(f(n+1)-f(n), e )\n",
        "  n += step\n",
        "\n",
        "n"
      ],
      "execution_count": 0,
      "outputs": [
        {
          "output_type": "execute_result",
          "data": {
            "text/plain": [
              "17"
            ]
          },
          "metadata": {
            "tags": []
          },
          "execution_count": 69
        }
      ]
    }
  ]
}