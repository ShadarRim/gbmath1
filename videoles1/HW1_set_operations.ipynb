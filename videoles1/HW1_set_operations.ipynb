{
  "nbformat": 4,
  "nbformat_minor": 0,
  "metadata": {
    "colab": {
      "name": "HW1 - set operations.ipynb",
      "provenance": []
    },
    "kernelspec": {
      "name": "python3",
      "display_name": "Python 3"
    }
  },
  "cells": [
    {
      "cell_type": "code",
      "metadata": {
        "id": "cWUH9EfVv1Ca",
        "colab_type": "code",
        "colab": {}
      },
      "source": [
        "A = set('1234')\n",
        "B = set('3456')\n",
        "C = set('5612')"
      ],
      "execution_count": 0,
      "outputs": []
    },
    {
      "cell_type": "code",
      "metadata": {
        "id": "ivNsd0-qwYLh",
        "colab_type": "code",
        "outputId": "f14ae07e-58d5-451c-a2a8-60d4576d4281",
        "colab": {
          "base_uri": "https://localhost:8080/",
          "height": 34
        }
      },
      "source": [
        "A"
      ],
      "execution_count": 0,
      "outputs": [
        {
          "output_type": "execute_result",
          "data": {
            "text/plain": [
              "{'1', '2', '3', '4'}"
            ]
          },
          "metadata": {
            "tags": []
          },
          "execution_count": 3
        }
      ]
    },
    {
      "cell_type": "code",
      "metadata": {
        "id": "jLPFjToWwYiP",
        "colab_type": "code",
        "outputId": "3eeac8f3-c8a6-4900-86f0-87113e141cd5",
        "colab": {
          "base_uri": "https://localhost:8080/",
          "height": 34
        }
      },
      "source": [
        "B"
      ],
      "execution_count": 0,
      "outputs": [
        {
          "output_type": "execute_result",
          "data": {
            "text/plain": [
              "{'3', '4', '5', '6'}"
            ]
          },
          "metadata": {
            "tags": []
          },
          "execution_count": 4
        }
      ]
    },
    {
      "cell_type": "code",
      "metadata": {
        "id": "0Gzhj2YgwZAv",
        "colab_type": "code",
        "outputId": "3f1a88ce-3ed5-466e-d15c-367cb370b02c",
        "colab": {
          "base_uri": "https://localhost:8080/",
          "height": 34
        }
      },
      "source": [
        "C"
      ],
      "execution_count": 0,
      "outputs": [
        {
          "output_type": "execute_result",
          "data": {
            "text/plain": [
              "{'1', '2', '5', '6'}"
            ]
          },
          "metadata": {
            "tags": []
          },
          "execution_count": 5
        }
      ]
    },
    {
      "cell_type": "code",
      "metadata": {
        "id": "exil2YWiwae8",
        "colab_type": "code",
        "outputId": "2365a8b6-d0bc-406c-d6af-5a84459b039c",
        "colab": {
          "base_uri": "https://localhost:8080/",
          "height": 34
        }
      },
      "source": [
        "A | B"
      ],
      "execution_count": 0,
      "outputs": [
        {
          "output_type": "execute_result",
          "data": {
            "text/plain": [
              "{'1', '2', '3', '4', '5', '6'}"
            ]
          },
          "metadata": {
            "tags": []
          },
          "execution_count": 6
        }
      ]
    },
    {
      "cell_type": "code",
      "metadata": {
        "id": "ej0tseD4wmUV",
        "colab_type": "code",
        "outputId": "5779156f-59b8-49b8-8944-1faf04e1b168",
        "colab": {
          "base_uri": "https://localhost:8080/",
          "height": 34
        }
      },
      "source": [
        "B | C"
      ],
      "execution_count": 0,
      "outputs": [
        {
          "output_type": "execute_result",
          "data": {
            "text/plain": [
              "{'1', '2', '3', '4', '5', '6'}"
            ]
          },
          "metadata": {
            "tags": []
          },
          "execution_count": 7
        }
      ]
    },
    {
      "cell_type": "code",
      "metadata": {
        "id": "zMtUbkqDwnf-",
        "colab_type": "code",
        "outputId": "8de73ae8-a190-42c0-c8dd-9868f4eb31c2",
        "colab": {
          "base_uri": "https://localhost:8080/",
          "height": 34
        }
      },
      "source": [
        "C | A"
      ],
      "execution_count": 0,
      "outputs": [
        {
          "output_type": "execute_result",
          "data": {
            "text/plain": [
              "{'1', '2', '3', '4', '5', '6'}"
            ]
          },
          "metadata": {
            "tags": []
          },
          "execution_count": 8
        }
      ]
    },
    {
      "cell_type": "code",
      "metadata": {
        "id": "DJ44yUhZwqJ1",
        "colab_type": "code",
        "outputId": "f94d791b-e62a-4e1f-c303-0e0596d0e9ef",
        "colab": {
          "base_uri": "https://localhost:8080/",
          "height": 34
        }
      },
      "source": [
        "A & B"
      ],
      "execution_count": 0,
      "outputs": [
        {
          "output_type": "execute_result",
          "data": {
            "text/plain": [
              "{'3', '4'}"
            ]
          },
          "metadata": {
            "tags": []
          },
          "execution_count": 9
        }
      ]
    },
    {
      "cell_type": "code",
      "metadata": {
        "id": "U7epwyw7wsOH",
        "colab_type": "code",
        "outputId": "a0f70aea-01b9-4485-f004-82c398d83c16",
        "colab": {
          "base_uri": "https://localhost:8080/",
          "height": 34
        }
      },
      "source": [
        "B & C"
      ],
      "execution_count": 0,
      "outputs": [
        {
          "output_type": "execute_result",
          "data": {
            "text/plain": [
              "{'5', '6'}"
            ]
          },
          "metadata": {
            "tags": []
          },
          "execution_count": 10
        }
      ]
    },
    {
      "cell_type": "code",
      "metadata": {
        "id": "enORnaELwtUL",
        "colab_type": "code",
        "outputId": "28b096b2-e17c-4be5-ce45-bf6b72530e23",
        "colab": {
          "base_uri": "https://localhost:8080/",
          "height": 34
        }
      },
      "source": [
        "C & A"
      ],
      "execution_count": 0,
      "outputs": [
        {
          "output_type": "execute_result",
          "data": {
            "text/plain": [
              "{'1', '2'}"
            ]
          },
          "metadata": {
            "tags": []
          },
          "execution_count": 11
        }
      ]
    },
    {
      "cell_type": "code",
      "metadata": {
        "id": "LfNNfpZpwwYp",
        "colab_type": "code",
        "outputId": "f3dbe84c-a382-4f5c-ff29-579dee08fde3",
        "colab": {
          "base_uri": "https://localhost:8080/",
          "height": 34
        }
      },
      "source": [
        "A - B"
      ],
      "execution_count": 0,
      "outputs": [
        {
          "output_type": "execute_result",
          "data": {
            "text/plain": [
              "{'1', '2'}"
            ]
          },
          "metadata": {
            "tags": []
          },
          "execution_count": 12
        }
      ]
    },
    {
      "cell_type": "code",
      "metadata": {
        "id": "Et5Ph0e5w0A0",
        "colab_type": "code",
        "outputId": "e7a72e9c-d00d-4542-ed68-34c090091996",
        "colab": {
          "base_uri": "https://localhost:8080/",
          "height": 34
        }
      },
      "source": [
        "B - A"
      ],
      "execution_count": 0,
      "outputs": [
        {
          "output_type": "execute_result",
          "data": {
            "text/plain": [
              "{'5', '6'}"
            ]
          },
          "metadata": {
            "tags": []
          },
          "execution_count": 13
        }
      ]
    },
    {
      "cell_type": "code",
      "metadata": {
        "id": "Wcy44NB7w1FH",
        "colab_type": "code",
        "outputId": "3b851dbc-091a-45a0-b2c4-e724c7d1631c",
        "colab": {
          "base_uri": "https://localhost:8080/",
          "height": 34
        }
      },
      "source": [
        "A - C"
      ],
      "execution_count": 0,
      "outputs": [
        {
          "output_type": "execute_result",
          "data": {
            "text/plain": [
              "{'3', '4'}"
            ]
          },
          "metadata": {
            "tags": []
          },
          "execution_count": 14
        }
      ]
    },
    {
      "cell_type": "code",
      "metadata": {
        "id": "SMojXFsdw5md",
        "colab_type": "code",
        "outputId": "5454bc54-6403-4867-a320-4aa0a1902abe",
        "colab": {
          "base_uri": "https://localhost:8080/",
          "height": 34
        }
      },
      "source": [
        "C - A"
      ],
      "execution_count": 0,
      "outputs": [
        {
          "output_type": "execute_result",
          "data": {
            "text/plain": [
              "{'5', '6'}"
            ]
          },
          "metadata": {
            "tags": []
          },
          "execution_count": 15
        }
      ]
    },
    {
      "cell_type": "code",
      "metadata": {
        "id": "0Ene8ldmw6Xa",
        "colab_type": "code",
        "outputId": "ffb61a03-7b47-422b-eb86-e21dcbc100c4",
        "colab": {
          "base_uri": "https://localhost:8080/",
          "height": 34
        }
      },
      "source": [
        "B - C"
      ],
      "execution_count": 0,
      "outputs": [
        {
          "output_type": "execute_result",
          "data": {
            "text/plain": [
              "{'3', '4'}"
            ]
          },
          "metadata": {
            "tags": []
          },
          "execution_count": 16
        }
      ]
    },
    {
      "cell_type": "code",
      "metadata": {
        "id": "-2aUxWwEw7gd",
        "colab_type": "code",
        "outputId": "8936d5e8-99bc-4ff0-b5b8-889136a2bf71",
        "colab": {
          "base_uri": "https://localhost:8080/",
          "height": 34
        }
      },
      "source": [
        "C - B"
      ],
      "execution_count": 0,
      "outputs": [
        {
          "output_type": "execute_result",
          "data": {
            "text/plain": [
              "{'1', '2'}"
            ]
          },
          "metadata": {
            "tags": []
          },
          "execution_count": 17
        }
      ]
    },
    {
      "cell_type": "code",
      "metadata": {
        "id": "xWmTeZ5BxAzV",
        "colab_type": "code",
        "outputId": "5220cdc4-82f9-4a76-f548-a62944ee0f0e",
        "colab": {
          "base_uri": "https://localhost:8080/",
          "height": 34
        }
      },
      "source": [
        "A ^ B"
      ],
      "execution_count": 0,
      "outputs": [
        {
          "output_type": "execute_result",
          "data": {
            "text/plain": [
              "{'1', '2', '5', '6'}"
            ]
          },
          "metadata": {
            "tags": []
          },
          "execution_count": 18
        }
      ]
    },
    {
      "cell_type": "code",
      "metadata": {
        "id": "UbiF_qKxxCya",
        "colab_type": "code",
        "outputId": "6fbc2523-3188-4437-cf71-f65d358fbc12",
        "colab": {
          "base_uri": "https://localhost:8080/",
          "height": 34
        }
      },
      "source": [
        "B ^ C"
      ],
      "execution_count": 0,
      "outputs": [
        {
          "output_type": "execute_result",
          "data": {
            "text/plain": [
              "{'1', '2', '3', '4'}"
            ]
          },
          "metadata": {
            "tags": []
          },
          "execution_count": 19
        }
      ]
    },
    {
      "cell_type": "code",
      "metadata": {
        "id": "Q-QMgQWtxD3U",
        "colab_type": "code",
        "outputId": "8ed20206-3248-49e2-9137-1f70dcc87943",
        "colab": {
          "base_uri": "https://localhost:8080/",
          "height": 34
        }
      },
      "source": [
        "C ^ A"
      ],
      "execution_count": 0,
      "outputs": [
        {
          "output_type": "execute_result",
          "data": {
            "text/plain": [
              "{'3', '4', '5', '6'}"
            ]
          },
          "metadata": {
            "tags": []
          },
          "execution_count": 20
        }
      ]
    },
    {
      "cell_type": "code",
      "metadata": {
        "id": "ayi46l26xbuV",
        "colab_type": "code",
        "colab": {}
      },
      "source": [
        "import itertools\n"
      ],
      "execution_count": 0,
      "outputs": []
    },
    {
      "cell_type": "code",
      "metadata": {
        "id": "g4GcPcF1xcjA",
        "colab_type": "code",
        "outputId": "141d5299-4614-4c5c-eeca-f480342968f9",
        "colab": {
          "base_uri": "https://localhost:8080/",
          "height": 289
        }
      },
      "source": [
        "for element in itertools.product(A, B):\n",
        "    print(element)"
      ],
      "execution_count": 0,
      "outputs": [
        {
          "output_type": "stream",
          "text": [
            "('4', '6')\n",
            "('4', '5')\n",
            "('4', '3')\n",
            "('4', '4')\n",
            "('1', '6')\n",
            "('1', '5')\n",
            "('1', '3')\n",
            "('1', '4')\n",
            "('3', '6')\n",
            "('3', '5')\n",
            "('3', '3')\n",
            "('3', '4')\n",
            "('2', '6')\n",
            "('2', '5')\n",
            "('2', '3')\n",
            "('2', '4')\n"
          ],
          "name": "stdout"
        }
      ]
    },
    {
      "cell_type": "code",
      "metadata": {
        "id": "LjL_HhqgxmQC",
        "colab_type": "code",
        "outputId": "bebac01f-a748-422e-c925-fd4faa71feff",
        "colab": {
          "base_uri": "https://localhost:8080/",
          "height": 289
        }
      },
      "source": [
        "for element in itertools.product(A, C):\n",
        "    print(element)"
      ],
      "execution_count": 0,
      "outputs": [
        {
          "output_type": "stream",
          "text": [
            "('4', '6')\n",
            "('4', '5')\n",
            "('4', '1')\n",
            "('4', '2')\n",
            "('1', '6')\n",
            "('1', '5')\n",
            "('1', '1')\n",
            "('1', '2')\n",
            "('3', '6')\n",
            "('3', '5')\n",
            "('3', '1')\n",
            "('3', '2')\n",
            "('2', '6')\n",
            "('2', '5')\n",
            "('2', '1')\n",
            "('2', '2')\n"
          ],
          "name": "stdout"
        }
      ]
    },
    {
      "cell_type": "code",
      "metadata": {
        "id": "a5yZHZH8xt9B",
        "colab_type": "code",
        "outputId": "8e190664-fecd-4e53-f6cb-3e7963d8d378",
        "colab": {
          "base_uri": "https://localhost:8080/",
          "height": 289
        }
      },
      "source": [
        "for element in itertools.product(A, A):\n",
        "    print(element)"
      ],
      "execution_count": 0,
      "outputs": [
        {
          "output_type": "stream",
          "text": [
            "('4', '4')\n",
            "('4', '1')\n",
            "('4', '3')\n",
            "('4', '2')\n",
            "('1', '4')\n",
            "('1', '1')\n",
            "('1', '3')\n",
            "('1', '2')\n",
            "('3', '4')\n",
            "('3', '1')\n",
            "('3', '3')\n",
            "('3', '2')\n",
            "('2', '4')\n",
            "('2', '1')\n",
            "('2', '3')\n",
            "('2', '2')\n"
          ],
          "name": "stdout"
        }
      ]
    },
    {
      "cell_type": "code",
      "metadata": {
        "id": "viJaacNfxnhK",
        "colab_type": "code",
        "outputId": "6e1cb26e-e20e-4e74-d262-012d239a9608",
        "colab": {
          "base_uri": "https://localhost:8080/",
          "height": 289
        }
      },
      "source": [
        "for element in itertools.product(C, B):\n",
        "    print(element)"
      ],
      "execution_count": 0,
      "outputs": [
        {
          "output_type": "stream",
          "text": [
            "('6', '6')\n",
            "('6', '5')\n",
            "('6', '3')\n",
            "('6', '4')\n",
            "('5', '6')\n",
            "('5', '5')\n",
            "('5', '3')\n",
            "('5', '4')\n",
            "('1', '6')\n",
            "('1', '5')\n",
            "('1', '3')\n",
            "('1', '4')\n",
            "('2', '6')\n",
            "('2', '5')\n",
            "('2', '3')\n",
            "('2', '4')\n"
          ],
          "name": "stdout"
        }
      ]
    },
    {
      "cell_type": "code",
      "metadata": {
        "id": "YfvVS0dUxu5b",
        "colab_type": "code",
        "outputId": "ab7325a5-df56-4cc2-d8a5-7bc060cd2e2f",
        "colab": {
          "base_uri": "https://localhost:8080/",
          "height": 289
        }
      },
      "source": [
        "for element in itertools.product(C, A):\n",
        "    print(element)"
      ],
      "execution_count": 0,
      "outputs": [
        {
          "output_type": "stream",
          "text": [
            "('6', '4')\n",
            "('6', '1')\n",
            "('6', '3')\n",
            "('6', '2')\n",
            "('5', '4')\n",
            "('5', '1')\n",
            "('5', '3')\n",
            "('5', '2')\n",
            "('1', '4')\n",
            "('1', '1')\n",
            "('1', '3')\n",
            "('1', '2')\n",
            "('2', '4')\n",
            "('2', '1')\n",
            "('2', '3')\n",
            "('2', '2')\n"
          ],
          "name": "stdout"
        }
      ]
    },
    {
      "cell_type": "code",
      "metadata": {
        "id": "QpYzvmzQxvgV",
        "colab_type": "code",
        "outputId": "776eb6b3-c6d0-4845-9f3d-8eabd966eda2",
        "colab": {
          "base_uri": "https://localhost:8080/",
          "height": 289
        }
      },
      "source": [
        "for element in itertools.product(C, C):\n",
        "    print(element)"
      ],
      "execution_count": 0,
      "outputs": [
        {
          "output_type": "stream",
          "text": [
            "('6', '6')\n",
            "('6', '5')\n",
            "('6', '1')\n",
            "('6', '2')\n",
            "('5', '6')\n",
            "('5', '5')\n",
            "('5', '1')\n",
            "('5', '2')\n",
            "('1', '6')\n",
            "('1', '5')\n",
            "('1', '1')\n",
            "('1', '2')\n",
            "('2', '6')\n",
            "('2', '5')\n",
            "('2', '1')\n",
            "('2', '2')\n"
          ],
          "name": "stdout"
        }
      ]
    },
    {
      "cell_type": "code",
      "metadata": {
        "id": "W9_wIz7Jxofs",
        "colab_type": "code",
        "outputId": "641cbeaf-5985-4b6d-d2f7-2a67f1dc5ae1",
        "colab": {
          "base_uri": "https://localhost:8080/",
          "height": 289
        }
      },
      "source": [
        "for element in itertools.product(B, B):\n",
        "    print(element)"
      ],
      "execution_count": 0,
      "outputs": [
        {
          "output_type": "stream",
          "text": [
            "('6', '6')\n",
            "('6', '5')\n",
            "('6', '3')\n",
            "('6', '4')\n",
            "('5', '6')\n",
            "('5', '5')\n",
            "('5', '3')\n",
            "('5', '4')\n",
            "('3', '6')\n",
            "('3', '5')\n",
            "('3', '3')\n",
            "('3', '4')\n",
            "('4', '6')\n",
            "('4', '5')\n",
            "('4', '3')\n",
            "('4', '4')\n"
          ],
          "name": "stdout"
        }
      ]
    },
    {
      "cell_type": "code",
      "metadata": {
        "id": "suTIkgG7x0Od",
        "colab_type": "code",
        "outputId": "715847b4-c177-491f-ef25-22192a281f00",
        "colab": {
          "base_uri": "https://localhost:8080/",
          "height": 289
        }
      },
      "source": [
        "for element in itertools.product(B, A):\n",
        "    print(element)"
      ],
      "execution_count": 0,
      "outputs": [
        {
          "output_type": "stream",
          "text": [
            "('6', '4')\n",
            "('6', '1')\n",
            "('6', '3')\n",
            "('6', '2')\n",
            "('5', '4')\n",
            "('5', '1')\n",
            "('5', '3')\n",
            "('5', '2')\n",
            "('3', '4')\n",
            "('3', '1')\n",
            "('3', '3')\n",
            "('3', '2')\n",
            "('4', '4')\n",
            "('4', '1')\n",
            "('4', '3')\n",
            "('4', '2')\n"
          ],
          "name": "stdout"
        }
      ]
    },
    {
      "cell_type": "code",
      "metadata": {
        "id": "JP5LaqlUx06O",
        "colab_type": "code",
        "outputId": "2bf07722-3b17-40c9-ccaf-11026b971d1a",
        "colab": {
          "base_uri": "https://localhost:8080/",
          "height": 289
        }
      },
      "source": [
        "for element in itertools.product(B, C):\n",
        "    print(element)"
      ],
      "execution_count": 0,
      "outputs": [
        {
          "output_type": "stream",
          "text": [
            "('6', '6')\n",
            "('6', '5')\n",
            "('6', '1')\n",
            "('6', '2')\n",
            "('5', '6')\n",
            "('5', '5')\n",
            "('5', '1')\n",
            "('5', '2')\n",
            "('3', '6')\n",
            "('3', '5')\n",
            "('3', '1')\n",
            "('3', '2')\n",
            "('4', '6')\n",
            "('4', '5')\n",
            "('4', '1')\n",
            "('4', '2')\n"
          ],
          "name": "stdout"
        }
      ]
    }
  ]
}